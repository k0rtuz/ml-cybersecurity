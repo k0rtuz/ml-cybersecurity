{
 "cells": [
  {
   "cell_type": "code",
   "execution_count": 1,
   "id": "63f4a04e",
   "metadata": {},
   "outputs": [],
   "source": [
    "import datetime\n",
    "import re\n",
    "import os\n",
    "import urllib.parse\n",
    "\n",
    "import dotenv\n",
    "import findspark\n",
    "import matplotlib.pyplot as plt\n",
    "import numpy as np\n",
    "import pandas as pd\n",
    "import seaborn as sns\n",
    "\n",
    "from pyspark.conf import SparkConf\n",
    "from pyspark.sql import SparkSession, functions as F, types as T"
   ]
  },
  {
   "cell_type": "code",
   "execution_count": 2,
   "id": "d0228c55",
   "metadata": {},
   "outputs": [],
   "source": [
    "routes = {}"
   ]
  },
  {
   "cell_type": "code",
   "execution_count": 11,
   "id": "47e3ae87",
   "metadata": {},
   "outputs": [
    {
     "data": {
      "text/plain": [
       "{}"
      ]
     },
     "execution_count": 11,
     "metadata": {},
     "output_type": "execute_result"
    }
   ],
   "source": [
    "routes"
   ]
  },
  {
   "cell_type": "code",
   "execution_count": 18,
   "id": "450664b1",
   "metadata": {},
   "outputs": [],
   "source": [
    "@F.udf(returnType=T.ArrayType(T.StringType()))\n",
    "def route(value):\n",
    "    if isinstance(value, str):\n",
    "        path, _, query_str = value.partition('?')\n",
    "        walk = path.strip('/').split('/')\n",
    "    else:\n",
    "        walk = []\n",
    "    return walk\n",
    "\n",
    "\n",
    "@F.udf(returnType=T.MapType(T.StringType(), T.StringType()))\n",
    "def params(value):\n",
    "    path, _, query_str = value.partition('?')\n",
    "    if len(query_str) > 0:\n",
    "        queried = {key.strip().lower(): val.strip() for key, _, val in query_str.partition('&')}\n",
    "    else:\n",
    "        queried = {}\n",
    "    return queried"
   ]
  },
  {
   "cell_type": "code",
   "execution_count": 19,
   "id": "8320fca1",
   "metadata": {},
   "outputs": [],
   "source": [
    "@F.udf(returnType=T.BooleanType())\n",
    "def register_route(path):\n",
    "    node = routes\n",
    "    for level in path:\n",
    "        if level not in node:\n",
    "            node[level] = {\n",
    "                'count': 0,\n",
    "                'children': {}\n",
    "            }\n",
    "        node[level][count] += 1\n",
    "\n",
    "    return True"
   ]
  },
  {
   "cell_type": "code",
   "execution_count": 5,
   "id": "eb95866b",
   "metadata": {},
   "outputs": [
    {
     "name": "stderr",
     "output_type": "stream",
     "text": [
      "WARNING: An illegal reflective access operation has occurred\n",
      "WARNING: Illegal reflective access by org.apache.spark.unsafe.Platform (file:/opt/spark/jars/spark-unsafe_2.12-3.2.0.jar) to constructor java.nio.DirectByteBuffer(long,int)\n",
      "WARNING: Please consider reporting this to the maintainers of org.apache.spark.unsafe.Platform\n",
      "WARNING: Use --illegal-access=warn to enable warnings of further illegal reflective access operations\n",
      "WARNING: All illegal access operations will be denied in a future release\n",
      "Setting default log level to \"WARN\".\n",
      "To adjust logging level use sc.setLogLevel(newLevel). For SparkR, use setLogLevel(newLevel).\n"
     ]
    }
   ],
   "source": [
    "# .set('spark.mesos.executor.memoryOverhead', '1024')\n",
    "findspark.init(os.getenv('SPARK_HOME'))\n",
    "spark = SparkSession.builder.config(\n",
    "    conf=SparkConf().setAppName('data-analysis')\n",
    ").getOrCreate()\n",
    "spark.sparkContext.setLogLevel('ERROR')"
   ]
  },
  {
   "cell_type": "code",
   "execution_count": 20,
   "id": "88ab722a",
   "metadata": {
    "scrolled": true
   },
   "outputs": [],
   "source": [
    "df = spark.read.format('parquet').load('/user/k0rtuz/transformed/apache_access_logs.parquet')"
   ]
  },
  {
   "cell_type": "code",
   "execution_count": 21,
   "id": "dba152b0",
   "metadata": {},
   "outputs": [],
   "source": [
    "df = df.withColumn(\n",
    "    'size', F.col('size') / 1024\n",
    ").withColumn(\n",
    "    'params', params(F.col('path'))\n",
    ").withColumn(\n",
    "    'path', route(F.col('path'))\n",
    ").withColumn(\n",
    "    'route_registered', register_route(F.col('path'))\n",
    ")"
   ]
  },
  {
   "cell_type": "code",
   "execution_count": 22,
   "id": "a8a567c7",
   "metadata": {},
   "outputs": [
    {
     "name": "stdout",
     "output_type": "stream",
     "text": [
      "+--------------------+\n",
      "|                path|\n",
      "+--------------------+\n",
      "|[static, bundle-b...|\n",
      "|      [image, 21555]|\n",
      "|[filter, b171,b36...|\n",
      "|    [settings, logo]|\n",
      "|[static, images, ...|\n",
      "|[static, images, ...|\n",
      "|[static, images, ...|\n",
      "|    [settings, logo]|\n",
      "|[static, images, ...|\n",
      "|[static, images, ...|\n",
      "+--------------------+\n",
      "only showing top 10 rows\n",
      "\n"
     ]
    }
   ],
   "source": [
    "df.select('path').show(10)"
   ]
  },
  {
   "cell_type": "code",
   "execution_count": 8,
   "id": "3b82ec68",
   "metadata": {},
   "outputs": [
    {
     "name": "stderr",
     "output_type": "stream",
     "text": [
      "                                                                                \r"
     ]
    }
   ],
   "source": [
    "total = df.count()"
   ]
  },
  {
   "cell_type": "code",
   "execution_count": 9,
   "id": "13928422",
   "metadata": {
    "scrolled": true
   },
   "outputs": [
    {
     "name": "stdout",
     "output_type": "stream",
     "text": [
      "root\n",
      " |-- id: long (nullable = true)\n",
      " |-- host: string (nullable = true)\n",
      " |-- timestamp: long (nullable = true)\n",
      " |-- method: string (nullable = true)\n",
      " |-- path: array (nullable = true)\n",
      " |    |-- element: string (containsNull = true)\n",
      " |-- status: short (nullable = true)\n",
      " |-- size: double (nullable = true)\n",
      " |-- user_agent: string (nullable = true)\n",
      " |-- params: array (nullable = true)\n",
      " |    |-- element: string (containsNull = true)\n",
      " |-- route_registered: boolean (nullable = true)\n",
      "\n"
     ]
    }
   ],
   "source": [
    "df.printSchema()"
   ]
  },
  {
   "cell_type": "code",
   "execution_count": 10,
   "id": "b1cd4d9c",
   "metadata": {},
   "outputs": [
    {
     "name": "stderr",
     "output_type": "stream",
     "text": [
      "[Stage 4:=======================================>                   (2 + 1) / 3]\r"
     ]
    },
    {
     "name": "stdout",
     "output_type": "stream",
     "text": [
      "+-------+--------+\n",
      "|summary|   depth|\n",
      "+-------+--------+\n",
      "|  count|10365152|\n",
      "|    min|       0|\n",
      "|    25%|       3|\n",
      "|    50%|       4|\n",
      "|    75%|       5|\n",
      "|    max|      10|\n",
      "+-------+--------+\n",
      "\n"
     ]
    },
    {
     "name": "stderr",
     "output_type": "stream",
     "text": [
      "\r",
      "                                                                                \r"
     ]
    }
   ],
   "source": [
    "df.withColumn(\n",
    "    'depth', F.size(F.col('path'))\n",
    ").select(\n",
    "    F.col('depth')\n",
    ").summary('count', 'min', '25%', '50%', '75%', 'max').show()"
   ]
  },
  {
   "cell_type": "code",
   "execution_count": 28,
   "id": "12bbe02c",
   "metadata": {},
   "outputs": [
    {
     "name": "stderr",
     "output_type": "stream",
     "text": [
      "[Stage 23:======================================>                   (2 + 1) / 3]\r"
     ]
    },
    {
     "name": "stdout",
     "output_type": "stream",
     "text": [
      "+-------+--------------+\n",
      "|summary|          size|\n",
      "+-------+--------------+\n",
      "|  count|       9594535|\n",
      "|    min|   9.765625E-4|\n",
      "|    25%|    2.30078125|\n",
      "|    50%|    4.16796875|\n",
      "|    75%|  13.482421875|\n",
      "|    max|1220.205078125|\n",
      "+-------+--------------+\n",
      "\n"
     ]
    },
    {
     "name": "stderr",
     "output_type": "stream",
     "text": [
      "\r",
      "                                                                                \r"
     ]
    }
   ],
   "source": [
    "df.withColumn(\n",
    "    'size', F.col('size') / 1024\n",
    ").where(\n",
    "    F.col('size') > 0\n",
    ").select(\n",
    "    F.col('size')\n",
    ").summary('count', 'min', '25%', '50%', '75%', 'max').show()"
   ]
  },
  {
   "cell_type": "code",
   "execution_count": 12,
   "id": "cb7c0618",
   "metadata": {},
   "outputs": [
    {
     "name": "stderr",
     "output_type": "stream",
     "text": [
      "                                                                                \r"
     ]
    }
   ],
   "source": [
    "sizes = df.where(F.col('method') == 'POST').select('size').toPandas()\n",
    "sizes['log_size'] = sizes['size'].apply(np.log10)"
   ]
  },
  {
   "cell_type": "code",
   "execution_count": 13,
   "id": "4c759284",
   "metadata": {},
   "outputs": [
    {
     "data": {
      "image/png": "[encoded data removed]",
      "text/plain": [
       "<Figure size 1152x648 with 1 Axes>"
      ]
     },
     "metadata": {
      "needs_background": "light"
     },
     "output_type": "display_data"
    }
   ],
   "source": [
    "fig, ax = plt.subplots(figsize=(16, 9))\n",
    "ax.hist(sizes[sizes['log_size'] >= 0]['log_size'], 600)\n",
    "#ax.set_xlim([0, upper_three_halves])\n",
    "plt.show()"
   ]
  },
  {
   "cell_type": "code",
   "execution_count": 5,
   "id": "7a62977f",
   "metadata": {},
   "outputs": [
    {
     "name": "stderr",
     "output_type": "stream",
     "text": [
      "[Stage 4:=======================================>                   (2 + 1) / 3]\r"
     ]
    },
    {
     "name": "stdout",
     "output_type": "stream",
     "text": [
      "+--------------------+--------+-----+\n",
      "|              method|   count| perc|\n",
      "+--------------------+--------+-----+\n",
      "|                 GET|10190005|98.31|\n",
      "|                POST|  139155|1.343|\n",
      "|                HEAD|   34501|0.333|\n",
      "|             OPTIONS|    1424|0.014|\n",
      "|             CONNECT|      10|  0.0|\n",
      "|                    |       7|  0.0|\n",
      "|                   G|       5|  0.0|\n",
      "|            PROPFIND|       3|  0.0|\n",
      "|\\x04\\x01\\x00P\\x05...|       2|  0.0|\n",
      "|\\x16\\x03\\x01\\x00^...|       2|  0.0|\n",
      "|\\x03\\x00\\x00/*\\xE...|       2|  0.0|\n",
      "|\\x15\\x03\\x01\\x00\\...|       2|  0.0|\n",
      "|                  t3|       2|  0.0|\n",
      "|        \\x05\\x01\\x00|       2|  0.0|\n",
      "|\\x17\\x10\\x05\\x15J...|       1|  0.0|\n",
      "|E\\x00\\x00J\\x11,@\\...|       1|  0.0|\n",
      "|\\x17\\x03\\x03\\x01\\...|       1|  0.0|\n",
      "|\\x03\\x01\\x02\\x00\\...|       1|  0.0|\n",
      "|\\x16\\x03\\x01\\x00^...|       1|  0.0|\n",
      "|\\x16\\x03\\x01\\x00\\...|       1|  0.0|\n",
      "+--------------------+--------+-----+\n",
      "only showing top 20 rows\n",
      "\n"
     ]
    },
    {
     "name": "stderr",
     "output_type": "stream",
     "text": [
      "\r",
      "                                                                                \r"
     ]
    }
   ],
   "source": [
    "df.groupby(F.col('method')).agg(\n",
    "    F.count(F.col('id')).alias('count')\n",
    ").withColumn(\n",
    "    'perc', F.round(100 * F.col('count') / total, 3)\n",
    ").sort(\n",
    "    F.col('count').desc()\n",
    ").select('method', 'count', 'perc').show()"
   ]
  },
  {
   "cell_type": "code",
   "execution_count": 6,
   "id": "ac463eaa",
   "metadata": {},
   "outputs": [],
   "source": [
    "@F.udf(returnType=T.ArrayType(T.LongType()))\n",
    "def separations(values):\n",
    "    if len(values) < 2:\n",
    "        seps = []\n",
    "    else:\n",
    "        values.sort()\n",
    "        seps = [(end - start) for start, end in zip(values[:-1], values[1:])]\n",
    "\n",
    "    return seps"
   ]
  },
  {
   "cell_type": "code",
   "execution_count": 7,
   "id": "79a50508",
   "metadata": {},
   "outputs": [],
   "source": [
    "df2 = df.groupby(\n",
    "    F.col('host')\n",
    ").agg(\n",
    "    F.count(F.col('id')).alias('count'),\n",
    "    F.collect_list(F.col('timestamp')).alias('ts')\n",
    ").withColumn(\n",
    "    'separations', separations(F.col('ts'))\n",
    ").sort(\n",
    "    F.col('count').desc()\n",
    ").select('host', 'count', 'separations')"
   ]
  },
  {
   "cell_type": "code",
   "execution_count": 8,
   "id": "a3150347",
   "metadata": {},
   "outputs": [
    {
     "name": "stderr",
     "output_type": "stream",
     "text": [
      "[Stage 9:=============================>                             (1 + 1) / 2]\r"
     ]
    },
    {
     "name": "stdout",
     "output_type": "stream",
     "text": [
      "+----+-----+-----------+\n",
      "|host|count|separations|\n",
      "+----+-----+-----------+\n",
      "|   0|    0|          0|\n",
      "+----+-----+-----------+\n",
      "\n"
     ]
    },
    {
     "name": "stderr",
     "output_type": "stream",
     "text": [
      "\r",
      "                                                                                \r"
     ]
    }
   ],
   "source": [
    "df2.select([F.count(F.when(F.isnull(c), c)).alias(c) for c in df2.columns]).show()"
   ]
  },
  {
   "cell_type": "code",
   "execution_count": 9,
   "id": "1d258a4c",
   "metadata": {},
   "outputs": [
    {
     "name": "stderr",
     "output_type": "stream",
     "text": [
      "                                                                                \r"
     ]
    }
   ],
   "source": [
    "ds = df2.toPandas()"
   ]
  },
  {
   "cell_type": "code",
   "execution_count": 10,
   "id": "bf91adcd",
   "metadata": {},
   "outputs": [
    {
     "data": {
      "text/html": [
       "<div>\n",
       "<style scoped>\n",
       "    .dataframe tbody tr th:only-of-type {\n",
       "        vertical-align: middle;\n",
       "    }\n",
       "\n",
       "    .dataframe tbody tr th {\n",
       "        vertical-align: top;\n",
       "    }\n",
       "\n",
       "    .dataframe thead th {\n",
       "        text-align: right;\n",
       "    }\n",
       "</style>\n",
       "<table border=\"1\" class=\"dataframe\">\n",
       "  <thead>\n",
       "    <tr style=\"text-align: right;\">\n",
       "      <th></th>\n",
       "      <th>count</th>\n",
       "    </tr>\n",
       "  </thead>\n",
       "  <tbody>\n",
       "    <tr>\n",
       "      <th>count</th>\n",
       "      <td>258606.000000</td>\n",
       "    </tr>\n",
       "    <tr>\n",
       "      <th>mean</th>\n",
       "      <td>40.080864</td>\n",
       "    </tr>\n",
       "    <tr>\n",
       "      <th>std</th>\n",
       "      <td>995.379098</td>\n",
       "    </tr>\n",
       "    <tr>\n",
       "      <th>min</th>\n",
       "      <td>1.000000</td>\n",
       "    </tr>\n",
       "    <tr>\n",
       "      <th>25%</th>\n",
       "      <td>1.000000</td>\n",
       "    </tr>\n",
       "    <tr>\n",
       "      <th>50%</th>\n",
       "      <td>3.000000</td>\n",
       "    </tr>\n",
       "    <tr>\n",
       "      <th>75%</th>\n",
       "      <td>33.000000</td>\n",
       "    </tr>\n",
       "    <tr>\n",
       "      <th>max</th>\n",
       "      <td>353483.000000</td>\n",
       "    </tr>\n",
       "  </tbody>\n",
       "</table>\n",
       "</div>"
      ],
      "text/plain": [
       "               count\n",
       "count  258606.000000\n",
       "mean       40.080864\n",
       "std       995.379098\n",
       "min         1.000000\n",
       "25%         1.000000\n",
       "50%         3.000000\n",
       "75%        33.000000\n",
       "max    353483.000000"
      ]
     },
     "execution_count": 10,
     "metadata": {},
     "output_type": "execute_result"
    }
   ],
   "source": [
    "ds.loc[:, ['count']].describe()"
   ]
  },
  {
   "cell_type": "code",
   "execution_count": 11,
   "id": "b9d4d2bd",
   "metadata": {},
   "outputs": [
    {
     "data": {
      "image/png": "[encoded data removed]",
      "text/plain": [
       "<Figure size 1152x648 with 1 Axes>"
      ]
     },
     "metadata": {
      "needs_background": "light"
     },
     "output_type": "display_data"
    }
   ],
   "source": [
    "fig, ax = plt.subplots(figsize=(16, 9))\n",
    "ax.boxplot(ds['count'], vert=False)\n",
    "plt.show()"
   ]
  },
  {
   "cell_type": "code",
   "execution_count": 12,
   "id": "d9eaf4df",
   "metadata": {
    "scrolled": false
   },
   "outputs": [
    {
     "data": {
      "image/png": "[encoded data removed]",
      "text/plain": [
       "<Figure size 1152x648 with 1 Axes>"
      ]
     },
     "metadata": {
      "needs_background": "light"
     },
     "output_type": "display_data"
    }
   ],
   "source": [
    "median = 3\n",
    "iqr = 32\n",
    "upper_three_halves = np.ceil(median + 1.5 * iqr)\n",
    "fig, ax = plt.subplots(figsize=(16, 9))\n",
    "ax.hist(ds[ds['count'] <= upper_three_halves]['count'])\n",
    "ax.set_xlim([0, upper_three_halves])\n",
    "plt.show()"
   ]
  },
  {
   "cell_type": "code",
   "execution_count": 24,
   "id": "cefd0be9",
   "metadata": {},
   "outputs": [
    {
     "ename": "NameError",
     "evalue": "name 'separations' is not defined",
     "output_type": "error",
     "traceback": [
      "\u001b[0;31m---------------------------------------------------------------------------\u001b[0m",
      "\u001b[0;31mNameError\u001b[0m                                 Traceback (most recent call last)",
      "\u001b[0;32m/tmp/ipykernel_2768/2787618220.py\u001b[0m in \u001b[0;36m<module>\u001b[0;34m\u001b[0m\n\u001b[1;32m      7\u001b[0m     \u001b[0mF\u001b[0m\u001b[0;34m.\u001b[0m\u001b[0mcollect_list\u001b[0m\u001b[0;34m(\u001b[0m\u001b[0mF\u001b[0m\u001b[0;34m.\u001b[0m\u001b[0mcol\u001b[0m\u001b[0;34m(\u001b[0m\u001b[0;34m'timestamp'\u001b[0m\u001b[0;34m)\u001b[0m\u001b[0;34m)\u001b[0m\u001b[0;34m.\u001b[0m\u001b[0malias\u001b[0m\u001b[0;34m(\u001b[0m\u001b[0;34m'ts'\u001b[0m\u001b[0;34m)\u001b[0m\u001b[0;34m\u001b[0m\u001b[0;34m\u001b[0m\u001b[0m\n\u001b[1;32m      8\u001b[0m \u001b[0;34m)\u001b[0m\u001b[0;34m.\u001b[0m\u001b[0mwithColumn\u001b[0m\u001b[0;34m(\u001b[0m\u001b[0;34m\u001b[0m\u001b[0;34m\u001b[0m\u001b[0m\n\u001b[0;32m----> 9\u001b[0;31m     \u001b[0;34m'separations'\u001b[0m\u001b[0;34m,\u001b[0m \u001b[0mseparations\u001b[0m\u001b[0;34m(\u001b[0m\u001b[0mF\u001b[0m\u001b[0;34m.\u001b[0m\u001b[0mcol\u001b[0m\u001b[0;34m(\u001b[0m\u001b[0;34m'ts'\u001b[0m\u001b[0;34m)\u001b[0m\u001b[0;34m)\u001b[0m\u001b[0;34m\u001b[0m\u001b[0;34m\u001b[0m\u001b[0m\n\u001b[0m\u001b[1;32m     10\u001b[0m \u001b[0;34m)\u001b[0m\u001b[0;34m.\u001b[0m\u001b[0msort\u001b[0m\u001b[0;34m(\u001b[0m\u001b[0;34m\u001b[0m\u001b[0;34m\u001b[0m\u001b[0m\n\u001b[1;32m     11\u001b[0m     \u001b[0mF\u001b[0m\u001b[0;34m.\u001b[0m\u001b[0mcol\u001b[0m\u001b[0;34m(\u001b[0m\u001b[0;34m'count'\u001b[0m\u001b[0;34m)\u001b[0m\u001b[0;34m.\u001b[0m\u001b[0mdesc\u001b[0m\u001b[0;34m(\u001b[0m\u001b[0;34m)\u001b[0m\u001b[0;34m\u001b[0m\u001b[0;34m\u001b[0m\u001b[0m\n",
      "\u001b[0;31mNameError\u001b[0m: name 'separations' is not defined"
     ]
    }
   ],
   "source": [
    "df3 = df.where(\n",
    "    F.col('method') == 'POST'\n",
    ").groupby(\n",
    "    F.col('host')\n",
    ").agg(\n",
    "    F.count(F.col('id')).alias('count'),\n",
    "    F.collect_list(F.col('timestamp')).alias('ts')\n",
    ").withColumn(\n",
    "    'separations', separations(F.col('ts'))\n",
    ").sort(\n",
    "    F.col('count').desc()\n",
    ").select('host', 'count', 'separations')"
   ]
  },
  {
   "cell_type": "code",
   "execution_count": 14,
   "id": "f64ae030",
   "metadata": {
    "scrolled": true
   },
   "outputs": [
    {
     "name": "stderr",
     "output_type": "stream",
     "text": [
      "[Stage 21:===================>                                      (1 + 2) / 3]\r"
     ]
    },
    {
     "name": "stdout",
     "output_type": "stream",
     "text": [
      "+----+-----+-----------+\n",
      "|host|count|separations|\n",
      "+----+-----+-----------+\n",
      "|   0|    0|          0|\n",
      "+----+-----+-----------+\n",
      "\n"
     ]
    },
    {
     "name": "stderr",
     "output_type": "stream",
     "text": [
      "\r",
      "[Stage 21:======================================>                   (2 + 1) / 3]\r",
      "\r",
      "                                                                                \r"
     ]
    }
   ],
   "source": [
    "df3.select([F.count(F.when(F.isnull(c), c)).alias(c) for c in df3.columns]).show()"
   ]
  },
  {
   "cell_type": "code",
   "execution_count": 15,
   "id": "f8bda7da",
   "metadata": {},
   "outputs": [
    {
     "name": "stderr",
     "output_type": "stream",
     "text": [
      "                                                                                \r"
     ]
    }
   ],
   "source": [
    "ds2 = df3.toPandas()"
   ]
  },
  {
   "cell_type": "code",
   "execution_count": 16,
   "id": "ea09b598",
   "metadata": {},
   "outputs": [
    {
     "name": "stderr",
     "output_type": "stream",
     "text": [
      "/home/k0rtuz/Code/ml-cybersecurity/notebooks/venv/lib/python3.9/site-packages/numpy/core/fromnumeric.py:3440: RuntimeWarning: Mean of empty slice.\n",
      "  return _methods._mean(a, axis=axis, dtype=dtype,\n",
      "/home/k0rtuz/Code/ml-cybersecurity/notebooks/venv/lib/python3.9/site-packages/numpy/core/_methods.py:262: RuntimeWarning: Degrees of freedom <= 0 for slice\n",
      "  ret = _var(a, axis=axis, dtype=dtype, out=out, ddof=ddof,\n"
     ]
    }
   ],
   "source": [
    "ds2['log_count'] = ds2['count'].apply(np.log)\n",
    "ds2['med_sep'] = ds2['separations'].apply(np.median)\n",
    "ds2['std_sep'] = ds2['separations'].apply(np.std)"
   ]
  },
  {
   "cell_type": "code",
   "execution_count": 17,
   "id": "05677fb5",
   "metadata": {},
   "outputs": [
    {
     "data": {
      "text/html": [
       "<div>\n",
       "<style scoped>\n",
       "    .dataframe tbody tr th:only-of-type {\n",
       "        vertical-align: middle;\n",
       "    }\n",
       "\n",
       "    .dataframe tbody tr th {\n",
       "        vertical-align: top;\n",
       "    }\n",
       "\n",
       "    .dataframe thead th {\n",
       "        text-align: right;\n",
       "    }\n",
       "</style>\n",
       "<table border=\"1\" class=\"dataframe\">\n",
       "  <thead>\n",
       "    <tr style=\"text-align: right;\">\n",
       "      <th></th>\n",
       "      <th>count</th>\n",
       "      <th>log_count</th>\n",
       "      <th>med_sep</th>\n",
       "      <th>std_sep</th>\n",
       "    </tr>\n",
       "  </thead>\n",
       "  <tbody>\n",
       "    <tr>\n",
       "      <th>count</th>\n",
       "      <td>13765.000000</td>\n",
       "      <td>13765.000000</td>\n",
       "      <td>9357.000000</td>\n",
       "      <td>9357.000000</td>\n",
       "    </tr>\n",
       "    <tr>\n",
       "      <th>mean</th>\n",
       "      <td>10.109335</td>\n",
       "      <td>1.189971</td>\n",
       "      <td>1679.201560</td>\n",
       "      <td>3910.218308</td>\n",
       "    </tr>\n",
       "    <tr>\n",
       "      <th>std</th>\n",
       "      <td>120.313371</td>\n",
       "      <td>1.171383</td>\n",
       "      <td>17704.067168</td>\n",
       "      <td>16123.420446</td>\n",
       "    </tr>\n",
       "    <tr>\n",
       "      <th>min</th>\n",
       "      <td>1.000000</td>\n",
       "      <td>0.000000</td>\n",
       "      <td>0.000000</td>\n",
       "      <td>0.000000</td>\n",
       "    </tr>\n",
       "    <tr>\n",
       "      <th>25%</th>\n",
       "      <td>1.000000</td>\n",
       "      <td>0.000000</td>\n",
       "      <td>2.000000</td>\n",
       "      <td>0.000000</td>\n",
       "    </tr>\n",
       "    <tr>\n",
       "      <th>50%</th>\n",
       "      <td>3.000000</td>\n",
       "      <td>1.098612</td>\n",
       "      <td>9.500000</td>\n",
       "      <td>9.604686</td>\n",
       "    </tr>\n",
       "    <tr>\n",
       "      <th>75%</th>\n",
       "      <td>6.000000</td>\n",
       "      <td>1.791759</td>\n",
       "      <td>30.000000</td>\n",
       "      <td>107.595274</td>\n",
       "    </tr>\n",
       "    <tr>\n",
       "      <th>max</th>\n",
       "      <td>11712.000000</td>\n",
       "      <td>9.368369</td>\n",
       "      <td>363637.000000</td>\n",
       "      <td>179246.000000</td>\n",
       "    </tr>\n",
       "  </tbody>\n",
       "</table>\n",
       "</div>"
      ],
      "text/plain": [
       "              count     log_count        med_sep        std_sep\n",
       "count  13765.000000  13765.000000    9357.000000    9357.000000\n",
       "mean      10.109335      1.189971    1679.201560    3910.218308\n",
       "std      120.313371      1.171383   17704.067168   16123.420446\n",
       "min        1.000000      0.000000       0.000000       0.000000\n",
       "25%        1.000000      0.000000       2.000000       0.000000\n",
       "50%        3.000000      1.098612       9.500000       9.604686\n",
       "75%        6.000000      1.791759      30.000000     107.595274\n",
       "max    11712.000000      9.368369  363637.000000  179246.000000"
      ]
     },
     "execution_count": 17,
     "metadata": {},
     "output_type": "execute_result"
    }
   ],
   "source": [
    "ds2.loc[:, ['count', 'log_count', 'med_sep', 'std_sep']].describe()"
   ]
  },
  {
   "cell_type": "code",
   "execution_count": 18,
   "id": "febd3eb5",
   "metadata": {},
   "outputs": [
    {
     "data": {
      "image/png": "[encoded data removed]",
      "text/plain": [
       "<Figure size 1152x648 with 1 Axes>"
      ]
     },
     "metadata": {
      "needs_background": "light"
     },
     "output_type": "display_data"
    }
   ],
   "source": [
    "median = 3\n",
    "iqr = 5\n",
    "upper_three_halves = np.ceil(median + 1.5 * iqr)\n",
    "fig, ax = plt.subplots(figsize=(16, 9))\n",
    "ax.hist(ds2[ds2['count'] <= upper_three_halves]['count'])\n",
    "ax.set_xlim([0, upper_three_halves])\n",
    "plt.show()"
   ]
  },
  {
   "cell_type": "code",
   "execution_count": 23,
   "id": "74dfcdf2",
   "metadata": {},
   "outputs": [
    {
     "ename": "NameError",
     "evalue": "name 'ds2' is not defined",
     "output_type": "error",
     "traceback": [
      "\u001b[0;31m---------------------------------------------------------------------------\u001b[0m",
      "\u001b[0;31mNameError\u001b[0m                                 Traceback (most recent call last)",
      "\u001b[0;32m/tmp/ipykernel_2768/2611400920.py\u001b[0m in \u001b[0;36m<module>\u001b[0;34m\u001b[0m\n\u001b[1;32m      1\u001b[0m \u001b[0mfig\u001b[0m\u001b[0;34m,\u001b[0m \u001b[0max\u001b[0m \u001b[0;34m=\u001b[0m \u001b[0mplt\u001b[0m\u001b[0;34m.\u001b[0m\u001b[0msubplots\u001b[0m\u001b[0;34m(\u001b[0m\u001b[0mfigsize\u001b[0m\u001b[0;34m=\u001b[0m\u001b[0;34m(\u001b[0m\u001b[0;36m16\u001b[0m\u001b[0;34m,\u001b[0m \u001b[0;36m9\u001b[0m\u001b[0;34m)\u001b[0m\u001b[0;34m)\u001b[0m\u001b[0;34m\u001b[0m\u001b[0;34m\u001b[0m\u001b[0m\n\u001b[0;32m----> 2\u001b[0;31m \u001b[0max\u001b[0m\u001b[0;34m.\u001b[0m\u001b[0mhist\u001b[0m\u001b[0;34m(\u001b[0m\u001b[0mds2\u001b[0m\u001b[0;34m[\u001b[0m\u001b[0;34m'med_sep'\u001b[0m\u001b[0;34m]\u001b[0m\u001b[0;34m)\u001b[0m\u001b[0;34m\u001b[0m\u001b[0;34m\u001b[0m\u001b[0m\n\u001b[0m\u001b[1;32m      3\u001b[0m \u001b[0max\u001b[0m\u001b[0;34m.\u001b[0m\u001b[0mset_xlim\u001b[0m\u001b[0;34m(\u001b[0m\u001b[0;34m[\u001b[0m\u001b[0;36m0\u001b[0m\u001b[0;34m,\u001b[0m \u001b[0;36m10\u001b[0m\u001b[0;34m]\u001b[0m\u001b[0;34m)\u001b[0m\u001b[0;34m\u001b[0m\u001b[0;34m\u001b[0m\u001b[0m\n\u001b[1;32m      4\u001b[0m \u001b[0mplt\u001b[0m\u001b[0;34m.\u001b[0m\u001b[0mshow\u001b[0m\u001b[0;34m(\u001b[0m\u001b[0;34m)\u001b[0m\u001b[0;34m\u001b[0m\u001b[0;34m\u001b[0m\u001b[0m\n",
      "\u001b[0;31mNameError\u001b[0m: name 'ds2' is not defined"
     ]
    },
    {
     "data": {
      "image/png": "[encoded data removed]",
      "text/plain": [
       "<Figure size 1152x648 with 1 Axes>"
      ]
     },
     "metadata": {
      "needs_background": "light"
     },
     "output_type": "display_data"
    }
   ],
   "source": [
    "fig, ax = plt.subplots(figsize=(16, 9))\n",
    "ax.hist(ds2['med_sep'])\n",
    "ax.set_xlim([0, 10])\n",
    "plt.show()"
   ]
  },
  {
   "cell_type": "code",
   "execution_count": 20,
   "id": "087f8dfb",
   "metadata": {},
   "outputs": [
    {
     "data": {
      "image/png": "[encoded data removed]",
      "text/plain": [
       "<Figure size 1152x648 with 1 Axes>"
      ]
     },
     "metadata": {
      "needs_background": "light"
     },
     "output_type": "display_data"
    }
   ],
   "source": [
    "fig, ax = plt.subplots(figsize=(16, 9))\n",
    "ax.scatter(ds2['med_sep'], ds2['std_sep'], alpha=0.2)\n",
    "#ax.set_xlim([0, 10])\n",
    "#ax.set_ylim([0, 60])\n",
    "plt.show()"
   ]
  },
  {
   "cell_type": "code",
   "execution_count": null,
   "id": "cb22fd24",
   "metadata": {},
   "outputs": [],
   "source": []
  }
 ],
 "metadata": {
  "kernelspec": {
   "display_name": "Python 3 (ipykernel)",
   "language": "python",
   "name": "python3"
  },
  "language_info": {
   "codemirror_mode": {
    "name": "ipython",
    "version": 3
   },
   "file_extension": ".py",
   "mimetype": "text/x-python",
   "name": "python",
   "nbconvert_exporter": "python",
   "pygments_lexer": "ipython3",
   "version": "3.9.2"
  }
 },
 "nbformat": 4,
 "nbformat_minor": 5
}
